{
 "cells": [
  {
   "cell_type": "code",
   "execution_count": 1,
   "id": "7b69d716",
   "metadata": {},
   "outputs": [],
   "source": [
    "import numpy as np\n",
    "import matplotlib.pyplot as plt\n",
    "from scipy.stats import norm, gaussian_kde\n",
    "from matplotlib.colors import ListedColormap\n",
    "from sklearn.preprocessing import StandardScaler\n",
    "from sklearn.model_selection import train_test_split\n",
    "from sklearn.metrics import accuracy_score, classification_report, confusion_matrix\n",
    "import seaborn as sns\n",
    "import pandas as pd\n",
    "import ipywidgets as widgets\n",
    "from ipywidgets import interact\n",
    "from ipywidgets import interact, IntSlider\n",
    "import matplotlib.pyplot as plt\n",
    "\n",
    "%matplotlib inline"
   ]
  },
  {
   "cell_type": "code",
   "execution_count": 2,
   "id": "acdf3a03",
   "metadata": {},
   "outputs": [],
   "source": [
    "class NaiveBayesContinuous:\n",
    "    def __init__(self, kernel_smoothing=False):\n",
    "        \"\"\"Inicjalizacja klasyfikatora. Jeśli kernel_smoothing=True, używa KDE.\"\"\"\n",
    "        self.kernel_smoothing = kernel_smoothing\n",
    "        self.classes_ = None\n",
    "        self.class_priors_ = None\n",
    "        self.models_ = {}\n",
    "\n",
    "    def fit(self, X, y, priors=None):\n",
    "        \"\"\"\n",
    "        Uczy klasyfikator na podstawie danych treningowych.\n",
    "        :param X: macierz cech\n",
    "        :param y: etykiety klas\n",
    "        :param priors: słownik {klasa: prawdopodobieństwo}\n",
    "        \"\"\"\n",
    "        self.classes_ = np.unique(y)\n",
    "        n_samples, n_features = X.shape\n",
    "        self.class_priors_ = {}\n",
    "\n",
    "        for cls in self.classes_:\n",
    "            X_c = X[y == cls]\n",
    "            self.models_[cls] = []\n",
    "            self.class_priors_[cls] = priors.get(cls, len(X_c) / n_samples) if priors else len(X_c) / n_samples\n",
    "\n",
    "            for feature in range(n_features):\n",
    "                if self.kernel_smoothing:\n",
    "                    kde = gaussian_kde(X_c[:, feature])\n",
    "                    self.models_[cls].append(kde)\n",
    "                else:\n",
    "                    mean = X_c[:, feature].mean()\n",
    "                    std = X_c[:, feature].std() + 1e-6  \n",
    "                    self.models_[cls].append((mean, std))\n",
    "\n",
    "    def predict_proba(self, X):\n",
    "        \"\"\"Zwraca prawdopodobieństwa a posteriori dla każdej próbki.\"\"\"\n",
    "        probs = []\n",
    "        for x in X:\n",
    "            class_probs = {}\n",
    "            for cls in self.classes_:\n",
    "                prior = self.class_priors_[cls]\n",
    "                likelihood = 1.0\n",
    "                for i, feature_value in enumerate(x):\n",
    "                    if self.kernel_smoothing:\n",
    "                        kde = self.models_[cls][i]\n",
    "                        likelihood *= kde.evaluate([feature_value])[0]\n",
    "                    else:\n",
    "                        mean, std = self.models_[cls][i]\n",
    "                        likelihood *= norm.pdf(feature_value, mean, std)\n",
    "                class_probs[cls] = prior * likelihood\n",
    "            total = sum(class_probs.values()) + 1e-9\n",
    "            for cls in class_probs:\n",
    "                class_probs[cls] /= total\n",
    "            probs.append(class_probs)\n",
    "        return probs\n",
    "\n",
    "    def predict(self, X):\n",
    "        \"\"\"Zwraca przewidywane etykiety klas.\"\"\"\n",
    "        probs = self.predict_proba(X)\n",
    "        return np.array([max(p, key=p.get) for p in probs])\n",
    "\n",
    "    def plot_confusion_matrix(self, y_true, y_pred):\n",
    "        cm = confusion_matrix(y_true, y_pred)\n",
    "        plt.figure(figsize=(6, 4))\n",
    "        sns.heatmap(cm, annot=True, fmt=\"d\", cmap=\"Blues\", xticklabels=self.classes_, yticklabels=self.classes_)\n",
    "        plt.xlabel(\"Predykcja\")\n",
    "        plt.ylabel(\"Rzeczywista\")\n",
    "        plt.title(\"Macierz pomyłek\")\n",
    "        plt.tight_layout()\n",
    "        plt.show()\n",
    "\n",
    "    def plot_posterior_heatmap(self, X_sample):\n",
    "        probs = self.predict_proba([X_sample])[0]\n",
    "        classes = self.classes_\n",
    "        values = [probs.get(cls, 0.0) for cls in classes] \n",
    "        \n",
    "        plt.figure(figsize=(6, 1))\n",
    "        sns.heatmap([values], annot=True, fmt=\".2f\", cmap=\"YlGnBu\", xticklabels=classes, cbar=False)\n",
    "        plt.yticks([])\n",
    "        plt.title(\"Prawdopodobieństwa a posteriori\")\n",
    "        plt.tight_layout()\n",
    "        plt.show()\n",
    "\n",
    "    def plot_decision_boundary_2d(self, X, y, resolution=0.2, test_point=None):\n",
    "        if X.shape[1] != 2:\n",
    "            raise ValueError(\"Wizualizacja w tej metodzie działa tylko dla 2 cech!\")\n",
    "\n",
    "        cmap_light = ListedColormap(['#FFAAAA', '#AAAAFF', '#AAFFAA'])\n",
    "        cmap_bold = ListedColormap(['#FF0000', '#0000FF', '#00FF00'])\n",
    "\n",
    "        x_min, x_max = X[:, 0].min() - 1, X[:, 0].max() + 1\n",
    "        y_min, y_max = X[:, 1].min() - 1, X[:, 1].max() + 1\n",
    "        xx, yy = np.meshgrid(np.arange(x_min, x_max, resolution),\n",
    "                             np.arange(y_min, y_max, resolution))\n",
    "\n",
    "        grid_points = np.c_[xx.ravel(), yy.ravel()]\n",
    "        Z = self.predict(grid_points)\n",
    "        Z = Z.reshape(xx.shape)\n",
    "\n",
    "        plt.figure(figsize=(8, 6))\n",
    "        plt.contourf(xx, yy, Z, alpha=0.3, cmap=cmap_light)\n",
    "        scatter = plt.scatter(X[:, 0], X[:, 1], c=y, cmap=cmap_bold, edgecolor='k', s=40)\n",
    "\n",
    "        if test_point is not None:\n",
    "            predicted_class = self.predict([test_point])[0]\n",
    "            print(f\"Punkt testowy został zaklasyfikowany do klasy: {predicted_class}\")\n",
    "            plt.scatter(test_point[0], test_point[1], c='black', s=100, marker='X', label=\"Punkt testowy\")\n",
    "\n",
    "\n",
    "        plt.xlabel(\"Poziom glukozy (standaryzowany)\", fontsize=12)\n",
    "        plt.ylabel(\"BMI (standaryzowany)\", fontsize=12)\n",
    "        plt.title(\"Granica decyzyjna - cechy: Glukoza, BMI\", fontsize=14)\n",
    "\n",
    "        handles, _ = scatter.legend_elements()\n",
    "        labels = [f\"Klasa {cls} ({'chory' if cls == 1 else 'zdrowy'})\" for cls in self.classes_]\n",
    "        plt.legend(handles=handles, labels=labels, title=\"Legenda\", fontsize=10, title_fontsize=11)\n",
    "        \n",
    "        plt.grid(True, linestyle='--', alpha=0.4)\n",
    "        plt.tight_layout()\n",
    "        plt.show()\n",
    "\n",
    "    def plot_decision_boundary_3d(self, X, y, resolution=0.2, test_point=None):\n",
    "        if X.shape[1] != 3:\n",
    "            raise ValueError(\"Wizualizacja w tej metodzie działa tylko dla 3 cech!\")\n",
    "\n",
    "        x_min, x_max = X[:, 0].min() - 1, X[:, 0].max() + 1\n",
    "        y_min, y_max = X[:, 1].min() - 1, X[:, 1].max() + 1\n",
    "        z_min, z_max = X[:, 2].min() - 1, X[:, 2].max() + 1\n",
    "\n",
    "        xx, yy, zz = np.meshgrid(\n",
    "            np.arange(x_min, x_max, resolution),\n",
    "            np.arange(y_min, y_max, resolution),\n",
    "            np.arange(z_min, z_max, resolution)\n",
    "        )\n",
    "\n",
    "        grid_points = np.c_[xx.ravel(), yy.ravel(), zz.ravel()]\n",
    "        Z = self.predict(grid_points)\n",
    "        Z = np.array(Z)\n",
    "\n",
    "        fig = plt.figure(figsize=(10, 7))\n",
    "        ax = fig.add_subplot(111, projection='3d')\n",
    "\n",
    "        colors = np.array(['#FF0000', '#0000FF', '#00FF00'])\n",
    "        color_vals = colors[Z.astype(int)] if len(self.classes_) <= 3 else Z\n",
    "\n",
    "        ax.scatter(\n",
    "            grid_points[:, 0], grid_points[:, 1], grid_points[:, 2],\n",
    "            c=color_vals, alpha=0.08, s=2, label=\"Obszary decyzyjne\"\n",
    "        )\n",
    "\n",
    "        ax.scatter(X[:, 0], X[:, 1], X[:, 2], c=y, cmap=plt.cm.coolwarm, edgecolor='k', s=60, label=\"Dane treningowe\")\n",
    "\n",
    "        if test_point is not None:\n",
    "            predicted_class = self.predict([test_point])[0]\n",
    "            print(f\"Punkt testowy został zaklasyfikowany do klasy: {predicted_class}\")\n",
    "            ax.scatter(test_point[0], test_point[1], test_point[2],\n",
    "                       c='black', s=100, marker='X', label=\"Punkt testowy\")\n",
    "\n",
    "        ax.set_xlabel(\"Poziom glukozy (standaryzowany)\")\n",
    "        ax.set_ylabel(\"BMI (standaryzowany)\")\n",
    "        ax.set_zlabel(\"Wiek (standaryzowany)\")\n",
    "        ax.set_title(\"Granica decyzyjna - cechy: Glukoza, BMI, Wiek\")\n",
    "        ax.legend()\n",
    "        plt.tight_layout()\n",
    "        plt.show()"
   ]
  },
  {
   "cell_type": "code",
   "execution_count": 3,
   "id": "2ef1924b",
   "metadata": {},
   "outputs": [
    {
     "name": "stdout",
     "output_type": "stream",
     "text": [
      "   Pregnancies  Glucose  BloodPressure  SkinThickness  Insulin   BMI  \\\n",
      "0            6      148             72             35        0  33.6   \n",
      "1            1       85             66             29        0  26.6   \n",
      "2            8      183             64              0        0  23.3   \n",
      "3            1       89             66             23       94  28.1   \n",
      "4            0      137             40             35      168  43.1   \n",
      "\n",
      "   DiabetesPedigreeFunction  Age  Outcome  \n",
      "0                     0.627   50        1  \n",
      "1                     0.351   31        0  \n",
      "2                     0.672   32        1  \n",
      "3                     0.167   21        0  \n",
      "4                     2.288   33        1  \n"
     ]
    }
   ],
   "source": [
    "url = \"https://raw.githubusercontent.com/jbrownlee/Datasets/master/pima-indians-diabetes.data.csv\"\n",
    "col_names = ['Pregnancies', 'Glucose', 'BloodPressure', 'SkinThickness', 'Insulin',\n",
    "             'BMI', 'DiabetesPedigreeFunction', 'Age', 'Outcome']\n",
    "df = pd.read_csv(url, names=col_names)\n",
    "\n",
    "X = df.iloc[:, :-1].values\n",
    "y = df['Outcome'].values\n",
    "print(df.head())"
   ]
  },
  {
   "cell_type": "code",
   "execution_count": 4,
   "id": "4e39ac6b",
   "metadata": {},
   "outputs": [
    {
     "name": "stdout",
     "output_type": "stream",
     "text": [
      "Accuracy: 0.74\n",
      "              precision    recall  f1-score   support\n",
      "\n",
      "           0       0.82      0.79      0.80       151\n",
      "           1       0.62      0.66      0.64        80\n",
      "\n",
      "    accuracy                           0.74       231\n",
      "   macro avg       0.72      0.73      0.72       231\n",
      "weighted avg       0.75      0.74      0.75       231\n",
      "\n"
     ]
    }
   ],
   "source": [
    "scaler = StandardScaler()\n",
    "X_scaled = scaler.fit_transform(X)\n",
    "\n",
    "X_train, X_test, y_train, y_test = train_test_split(X_scaled, y, test_size=0.3, random_state=42)\n",
    "\n",
    "nb = NaiveBayesContinuous(kernel_smoothing=False)\n",
    "nb.fit(X_train, y_train)\n",
    "\n",
    "y_pred = nb.predict(X_test)\n",
    "print(f\"Accuracy: {accuracy_score(y_test, y_pred):.2f}\")\n",
    "print(classification_report(y_test, y_pred))"
   ]
  },
  {
   "cell_type": "code",
   "execution_count": 5,
   "id": "38b7832b",
   "metadata": {},
   "outputs": [
    {
     "data": {
      "image/png": "[encoded data removed]",
      "text/plain": [
       "<Figure size 600x400 with 2 Axes>"
      ]
     },
     "metadata": {},
     "output_type": "display_data"
    }
   ],
   "source": [
    "nb.plot_confusion_matrix(y_test, y_pred)"
   ]
  },
  {
   "cell_type": "code",
   "execution_count": 6,
   "id": "a97b4419",
   "metadata": {},
   "outputs": [
    {
     "data": {
      "application/vnd.jupyter.widget-view+json": {
       "model_id": "96bf4e9dde9f4fe6b41fde2bbb3e7e8d",
       "version_major": 2,
       "version_minor": 0
      },
      "text/plain": [
       "interactive(children=(IntSlider(value=0, description='index', max=230), Output()), _dom_classes=('widget-inter…"
      ]
     },
     "metadata": {},
     "output_type": "display_data"
    }
   ],
   "source": [
    "# nb.plot_posterior_heatmap(X_test[0])\n",
    "def plot_heatmap_for_index(index):\n",
    "    sample = X_test[index]\n",
    "    nb.plot_posterior_heatmap(sample)\n",
    "interact(plot_heatmap_for_index, index=IntSlider(min=0, max=len(X_test)-1, step=1, value=0));"
   ]
  },
  {
   "cell_type": "code",
   "execution_count": 7,
   "id": "5895923b",
   "metadata": {},
   "outputs": [
    {
     "data": {
      "application/vnd.jupyter.widget-view+json": {
       "model_id": "a54838afd6454f9c854296dae99f8222",
       "version_major": 2,
       "version_minor": 0
      },
      "text/plain": [
       "interactive(children=(IntSlider(value=0, description='index', max=767), Output()), _dom_classes=('widget-inter…"
      ]
     },
     "metadata": {},
     "output_type": "display_data"
    }
   ],
   "source": [
    "X_2d = X_scaled[:, [1, 5]]\n",
    "nb_2d = NaiveBayesContinuous(kernel_smoothing=False)\n",
    "nb_2d.fit(X_2d, y)\n",
    "\n",
    "def update_plot_2d(index):\n",
    "    test_point = X_2d[index]\n",
    "    nb_2d.plot_decision_boundary_2d(X_2d, y, test_point=test_point)\n",
    "\n",
    "interact(update_plot_2d, index=widgets.IntSlider(min=0, max=len(X_2d)-1, step=1, value=0));\n",
    "# nb_2d.plot_decision_boundary_2d(X_2d, y, test_point=X_2d[0])"
   ]
  },
  {
   "cell_type": "code",
   "execution_count": 8,
   "id": "5c11d748",
   "metadata": {},
   "outputs": [
    {
     "data": {
      "application/vnd.jupyter.widget-view+json": {
       "model_id": "16dc9b686d6d44c8844a80d4ecfe188e",
       "version_major": 2,
       "version_minor": 0
      },
      "text/plain": [
       "interactive(children=(IntSlider(value=0, description='index', max=767), Output()), _dom_classes=('widget-inter…"
      ]
     },
     "metadata": {},
     "output_type": "display_data"
    },
    {
     "data": {
      "text/plain": [
       "<function __main__.update_plot_3d(index)>"
      ]
     },
     "execution_count": 8,
     "metadata": {},
     "output_type": "execute_result"
    }
   ],
   "source": [
    "X_3d = X_scaled[:, [1, 5, 7]]\n",
    "nb_3d = NaiveBayesContinuous(kernel_smoothing=False)\n",
    "nb_3d.fit(X_3d, y)\n",
    "\n",
    "def update_plot_3d(index):\n",
    "    test_point = X_3d[index]\n",
    "    nb_3d.plot_decision_boundary_3d(X_3d, y, test_point=test_point)\n",
    "\n",
    "interact(update_plot_3d, index=widgets.IntSlider(min=0, max=len(X_3d)-1, step=1, value=0))\n",
    "# nb_3d.plot_decision_boundary_3d(X_3d, y, test_point=X_3d[0])"
   ]
  },
  {
   "cell_type": "code",
   "execution_count": null,
   "id": "9777e989",
   "metadata": {},
   "outputs": [],
   "source": []
  }
 ],
 "metadata": {
  "kernelspec": {
   "display_name": "base",
   "language": "python",
   "name": "python3"
  },
  "language_info": {
   "codemirror_mode": {
    "name": "ipython",
    "version": 3
   },
   "file_extension": ".py",
   "mimetype": "text/x-python",
   "name": "python",
   "nbconvert_exporter": "python",
   "pygments_lexer": "ipython3",
   "version": "3.11.5"
  }
 },
 "nbformat": 4,
 "nbformat_minor": 5
}
